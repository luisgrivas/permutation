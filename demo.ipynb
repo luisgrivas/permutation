{
 "cells": [
  {
   "cell_type": "markdown",
   "metadata": {},
   "source": [
    "# Demo para curso Teoría de Grupos\n",
    "\n",
    "El modulo perm nos permite realizar operaciones básicas con permutaciones. "
   ]
  },
  {
   "cell_type": "code",
   "execution_count": 1,
   "metadata": {},
   "outputs": [],
   "source": [
    "from perm import * "
   ]
  },
  {
   "cell_type": "markdown",
   "metadata": {},
   "source": [
    "## Creacion de permutaciones"
   ]
  },
  {
   "cell_type": "markdown",
   "metadata": {},
   "source": [
    "Existen distintas maneras de crear permutaciones. La primera es utilizar **Permutation( )**. Este recibe como argumento una lista que representa una permutación. Esta representación está definida como sigue: \n",
    "indice -> lista(indice)\n",
    "\n",
    "Por convención, la lista toma valores enteros del 0 al n-1, donde n es el tamaño de la lista. "
   ]
  },
  {
   "cell_type": "markdown",
   "metadata": {},
   "source": [
    "Por ejemplo el mapeo\n",
    "\n",
    "0 -> 1\n",
    "\n",
    "1 -> 2\n",
    "\n",
    "2 -> 0\n",
    "\n",
    "3 -> 5\n",
    "\n",
    "4 -> 3\n",
    "\n",
    "5 -> 4\n",
    "\n",
    "se representa así:"
   ]
  },
  {
   "cell_type": "code",
   "execution_count": 2,
   "metadata": {},
   "outputs": [],
   "source": [
    "lista = [1, 2, 0, 5, 3, 4]"
   ]
  },
  {
   "cell_type": "code",
   "execution_count": 3,
   "metadata": {},
   "outputs": [
    {
     "data": {
      "text/plain": [
       " 0 -> 1\n",
       " 1 -> 2\n",
       " 2 -> 0\n",
       " 3 -> 5\n",
       " 4 -> 3\n",
       " 5 -> 4\n",
       " "
      ]
     },
     "execution_count": 3,
     "metadata": {},
     "output_type": "execute_result"
    }
   ],
   "source": [
    "per1 = Permutation(lista)\n",
    "per1"
   ]
  },
  {
   "cell_type": "markdown",
   "metadata": {},
   "source": [
    "También podemos crear una permutación aleatoria de n elementos utilizando **rand_permutation( )**."
   ]
  },
  {
   "cell_type": "code",
   "execution_count": 4,
   "metadata": {},
   "outputs": [
    {
     "data": {
      "text/plain": [
       " 0 -> 4\n",
       " 1 -> 0\n",
       " 2 -> 5\n",
       " 3 -> 3\n",
       " 4 -> 1\n",
       " 5 -> 2\n",
       " "
      ]
     },
     "execution_count": 4,
     "metadata": {},
     "output_type": "execute_result"
    }
   ],
   "source": [
    "per2 = rand_permutation(6)\n",
    "per2"
   ]
  },
  {
   "cell_type": "markdown",
   "metadata": {},
   "source": [
    "Finalmente la función **identity( )** crea la permutación identidad de n elementos."
   ]
  },
  {
   "cell_type": "code",
   "execution_count": 5,
   "metadata": {},
   "outputs": [
    {
     "data": {
      "text/plain": [
       " 0 -> 0\n",
       " 1 -> 1\n",
       " 2 -> 2\n",
       " 3 -> 3\n",
       " 4 -> 4\n",
       " 5 -> 5\n",
       " "
      ]
     },
     "execution_count": 5,
     "metadata": {},
     "output_type": "execute_result"
    }
   ],
   "source": [
    "e = identity(6)\n",
    "e"
   ]
  },
  {
   "cell_type": "markdown",
   "metadata": {},
   "source": [
    "## Operaciones con permutaciones"
   ]
  },
  {
   "cell_type": "markdown",
   "metadata": {},
   "source": [
    "El método **eval( )** nos permite evaluar una permutación en un número.\n",
    "Por ejemplo, podemos evaluar la permutacion per1 en 2. "
   ]
  },
  {
   "cell_type": "code",
   "execution_count": 6,
   "metadata": {},
   "outputs": [
    {
     "data": {
      "text/plain": [
       " 0 -> 1\n",
       " 1 -> 2\n",
       " 2 -> 0\n",
       " 3 -> 5\n",
       " 4 -> 3\n",
       " 5 -> 4\n",
       " "
      ]
     },
     "execution_count": 6,
     "metadata": {},
     "output_type": "execute_result"
    }
   ],
   "source": [
    "per1"
   ]
  },
  {
   "cell_type": "code",
   "execution_count": 7,
   "metadata": {},
   "outputs": [
    {
     "data": {
      "text/plain": [
       "0"
      ]
     },
     "execution_count": 7,
     "metadata": {},
     "output_type": "execute_result"
    }
   ],
   "source": [
    "per1.eval(2)"
   ]
  },
  {
   "cell_type": "markdown",
   "metadata": {},
   "source": [
    "Para multiplicar dos permutaciones utilizamos la función **product( )**. "
   ]
  },
  {
   "cell_type": "code",
   "execution_count": 8,
   "metadata": {},
   "outputs": [
    {
     "data": {
      "text/plain": [
       " 0 -> 3\n",
       " 1 -> 1\n",
       " 2 -> 4\n",
       " 3 -> 5\n",
       " 4 -> 2\n",
       " 5 -> 0\n",
       " "
      ]
     },
     "execution_count": 8,
     "metadata": {},
     "output_type": "execute_result"
    }
   ],
   "source": [
    "product(per1, per2)"
   ]
  },
  {
   "cell_type": "markdown",
   "metadata": {},
   "source": [
    "El método **inverse( )** nos permite calcular el inverso de una permutación. "
   ]
  },
  {
   "cell_type": "code",
   "execution_count": 9,
   "metadata": {},
   "outputs": [
    {
     "data": {
      "text/plain": [
       " 0 -> 2\n",
       " 1 -> 0\n",
       " 2 -> 1\n",
       " 3 -> 4\n",
       " 4 -> 5\n",
       " 5 -> 3\n",
       " "
      ]
     },
     "execution_count": 9,
     "metadata": {},
     "output_type": "execute_result"
    }
   ],
   "source": [
    "per1_inv = per1.inverse()\n",
    "per1_inv"
   ]
  },
  {
   "cell_type": "markdown",
   "metadata": {},
   "source": [
    "Podemos comprobar que per1_inv es el inverso de per1 obteniendo su producto"
   ]
  },
  {
   "cell_type": "code",
   "execution_count": 10,
   "metadata": {},
   "outputs": [
    {
     "data": {
      "text/plain": [
       " 0 -> 0\n",
       " 1 -> 1\n",
       " 2 -> 2\n",
       " 3 -> 3\n",
       " 4 -> 4\n",
       " 5 -> 5\n",
       " "
      ]
     },
     "execution_count": 10,
     "metadata": {},
     "output_type": "execute_result"
    }
   ],
   "source": [
    "product(per1, per1_inv)"
   ]
  },
  {
   "cell_type": "markdown",
   "metadata": {},
   "source": [
    "Para elevar una permutación a un exponente utilizamos la función **power( )**."
   ]
  },
  {
   "cell_type": "code",
   "execution_count": 11,
   "metadata": {},
   "outputs": [
    {
     "data": {
      "text/plain": [
       " 0 -> 2\n",
       " 1 -> 0\n",
       " 2 -> 1\n",
       " 3 -> 4\n",
       " 4 -> 5\n",
       " 5 -> 3\n",
       " "
      ]
     },
     "execution_count": 11,
     "metadata": {},
     "output_type": "execute_result"
    }
   ],
   "source": [
    "per1_cuadrado = power(per1, 2)\n",
    "per1_cuadrado"
   ]
  },
  {
   "cell_type": "markdown",
   "metadata": {},
   "source": [
    "Podemos comprobar el resultado:"
   ]
  },
  {
   "cell_type": "code",
   "execution_count": 12,
   "metadata": {},
   "outputs": [
    {
     "data": {
      "text/plain": [
       " 0 -> 2\n",
       " 1 -> 0\n",
       " 2 -> 1\n",
       " 3 -> 4\n",
       " 4 -> 5\n",
       " 5 -> 3\n",
       " "
      ]
     },
     "execution_count": 12,
     "metadata": {},
     "output_type": "execute_result"
    }
   ],
   "source": [
    "product(per1, per1)"
   ]
  },
  {
   "cell_type": "markdown",
   "metadata": {},
   "source": [
    "La función **order( ) ** nos permite calcular el orden de una permutación. "
   ]
  },
  {
   "cell_type": "code",
   "execution_count": 13,
   "metadata": {},
   "outputs": [
    {
     "data": {
      "text/plain": [
       "3"
      ]
     },
     "execution_count": 13,
     "metadata": {},
     "output_type": "execute_result"
    }
   ],
   "source": [
    "order(per1)"
   ]
  },
  {
   "cell_type": "markdown",
   "metadata": {},
   "source": [
    "Y podemos comprobar el resultado:"
   ]
  },
  {
   "cell_type": "code",
   "execution_count": 14,
   "metadata": {},
   "outputs": [
    {
     "data": {
      "text/plain": [
       " 0 -> 0\n",
       " 1 -> 1\n",
       " 2 -> 2\n",
       " 3 -> 3\n",
       " 4 -> 4\n",
       " 5 -> 5\n",
       " "
      ]
     },
     "execution_count": 14,
     "metadata": {},
     "output_type": "execute_result"
    }
   ],
   "source": [
    "per1_cubo = power(per1, 3)\n",
    "per1_cubo"
   ]
  },
  {
   "cell_type": "markdown",
   "metadata": {},
   "source": [
    "Finalmente, podemos determinar si dos permutaciones son iguales con la función **equal( )**"
   ]
  },
  {
   "cell_type": "code",
   "execution_count": 15,
   "metadata": {},
   "outputs": [
    {
     "data": {
      "text/plain": [
       "True"
      ]
     },
     "execution_count": 15,
     "metadata": {},
     "output_type": "execute_result"
    }
   ],
   "source": [
    "equal(per1_cubo, e)"
   ]
  },
  {
   "cell_type": "markdown",
   "metadata": {},
   "source": [
    "## Aplicaciones especiales"
   ]
  },
  {
   "cell_type": "markdown",
   "metadata": {},
   "source": [
    "Para conocer la órbita de un elemento bajo una permutación utilizamos la función **orbit( )**. En el siguiente ejemplo calculamos la órbita de 2 bajo la permutación per1."
   ]
  },
  {
   "cell_type": "code",
   "execution_count": 16,
   "metadata": {},
   "outputs": [
    {
     "data": {
      "text/plain": [
       "{0, 1, 2}"
      ]
     },
     "execution_count": 16,
     "metadata": {},
     "output_type": "execute_result"
    }
   ],
   "source": [
    "orbit(per1, 2)"
   ]
  },
  {
   "cell_type": "markdown",
   "metadata": {},
   "source": [
    "Más aún, podemos calcular todas las órbitas de una permutación con **all_orbits( )**"
   ]
  },
  {
   "cell_type": "code",
   "execution_count": 17,
   "metadata": {},
   "outputs": [
    {
     "data": {
      "text/plain": [
       "[{0, 1, 2}, {3, 4, 5}]"
      ]
     },
     "execution_count": 17,
     "metadata": {},
     "output_type": "execute_result"
    }
   ],
   "source": [
    "all_orbits(per1)"
   ]
  },
  {
   "cell_type": "code",
   "execution_count": 18,
   "metadata": {},
   "outputs": [
    {
     "data": {
      "text/plain": [
       "[{0, 1, 4}, {2, 5}, {3}]"
      ]
     },
     "execution_count": 18,
     "metadata": {},
     "output_type": "execute_result"
    }
   ],
   "source": [
    "all_orbits(per2)"
   ]
  },
  {
   "cell_type": "code",
   "execution_count": 19,
   "metadata": {},
   "outputs": [
    {
     "data": {
      "text/plain": [
       "[{0}, {1}, {2}, {3}, {4}, {5}]"
      ]
     },
     "execution_count": 19,
     "metadata": {},
     "output_type": "execute_result"
    }
   ],
   "source": [
    "all_orbits(e)"
   ]
  },
  {
   "cell_type": "markdown",
   "metadata": {},
   "source": [
    "El ciclo generado por un elemento puede ser calculado con la función **gen_cycle( )**."
   ]
  },
  {
   "cell_type": "code",
   "execution_count": 24,
   "metadata": {},
   "outputs": [
    {
     "data": {
      "text/plain": [
       " 0 -> 1\n",
       " 1 -> 2\n",
       " 2 -> 0\n",
       " 3 -> 3\n",
       " 4 -> 4\n",
       " 5 -> 5\n",
       " "
      ]
     },
     "execution_count": 24,
     "metadata": {},
     "output_type": "execute_result"
    }
   ],
   "source": [
    "gen_cycle(per1, 0)"
   ]
  },
  {
   "cell_type": "markdown",
   "metadata": {},
   "source": [
    "Como sabemos, toda permutación puede ser expresada en producto de ciclos disjuntos. Con la función **cycle_decom( )** podemos realizar esta tarea."
   ]
  },
  {
   "cell_type": "code",
   "execution_count": 27,
   "metadata": {},
   "outputs": [
    {
     "data": {
      "text/plain": [
       "[ 0 -> 1\n",
       "  1 -> 2\n",
       "  2 -> 0\n",
       "  3 -> 3\n",
       "  4 -> 4\n",
       "  5 -> 5\n",
       "  ,  0 -> 0\n",
       "  1 -> 1\n",
       "  2 -> 2\n",
       "  3 -> 5\n",
       "  4 -> 3\n",
       "  5 -> 4\n",
       "  ]"
      ]
     },
     "execution_count": 27,
     "metadata": {},
     "output_type": "execute_result"
    }
   ],
   "source": [
    "d1 = cycle_decom(per1)\n",
    "d1"
   ]
  },
  {
   "cell_type": "code",
   "execution_count": 28,
   "metadata": {},
   "outputs": [
    {
     "data": {
      "text/plain": [
       "[ 0 -> 4\n",
       "  1 -> 0\n",
       "  2 -> 2\n",
       "  3 -> 3\n",
       "  4 -> 1\n",
       "  5 -> 5\n",
       "  ,  0 -> 0\n",
       "  1 -> 1\n",
       "  2 -> 5\n",
       "  3 -> 3\n",
       "  4 -> 4\n",
       "  5 -> 2\n",
       "  ]"
      ]
     },
     "execution_count": 28,
     "metadata": {},
     "output_type": "execute_result"
    }
   ],
   "source": [
    "d2 = cycle_decom(per2)\n",
    "d2"
   ]
  },
  {
   "cell_type": "markdown",
   "metadata": {},
   "source": [
    "Podemos comprobar los resultados anteriores"
   ]
  },
  {
   "cell_type": "code",
   "execution_count": 29,
   "metadata": {},
   "outputs": [
    {
     "data": {
      "text/plain": [
       "True"
      ]
     },
     "execution_count": 29,
     "metadata": {},
     "output_type": "execute_result"
    }
   ],
   "source": [
    "equal(product(d1[0], d1[1]), per1)"
   ]
  },
  {
   "cell_type": "markdown",
   "metadata": {},
   "source": [
    "Finalmente, con **cyclic_group( )** podemos calcular el grupo cíclico generado por una permutación."
   ]
  },
  {
   "cell_type": "code",
   "execution_count": 30,
   "metadata": {},
   "outputs": [
    {
     "data": {
      "text/plain": [
       "[ 0 -> 0\n",
       "  1 -> 1\n",
       "  2 -> 2\n",
       "  3 -> 3\n",
       "  4 -> 4\n",
       "  5 -> 5\n",
       "  ,  0 -> 1\n",
       "  1 -> 2\n",
       "  2 -> 0\n",
       "  3 -> 5\n",
       "  4 -> 3\n",
       "  5 -> 4\n",
       "  ,  0 -> 2\n",
       "  1 -> 0\n",
       "  2 -> 1\n",
       "  3 -> 4\n",
       "  4 -> 5\n",
       "  5 -> 3\n",
       "  ]"
      ]
     },
     "execution_count": 30,
     "metadata": {},
     "output_type": "execute_result"
    }
   ],
   "source": [
    "cyclic_group(per1)"
   ]
  },
  {
   "cell_type": "code",
   "execution_count": null,
   "metadata": {},
   "outputs": [],
   "source": []
  }
 ],
 "metadata": {
  "kernelspec": {
   "display_name": "Python 3",
   "language": "python",
   "name": "python3"
  },
  "language_info": {
   "codemirror_mode": {
    "name": "ipython",
    "version": 3
   },
   "file_extension": ".py",
   "mimetype": "text/x-python",
   "name": "python",
   "nbconvert_exporter": "python",
   "pygments_lexer": "ipython3",
   "version": "3.6.4"
  }
 },
 "nbformat": 4,
 "nbformat_minor": 2
}
