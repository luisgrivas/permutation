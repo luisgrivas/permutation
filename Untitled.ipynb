{
 "cells": [
  {
   "cell_type": "code",
   "execution_count": 3,
   "metadata": {},
   "outputs": [],
   "source": [
    "from perm import * "
   ]
  },
  {
   "cell_type": "code",
   "execution_count": 8,
   "metadata": {},
   "outputs": [],
   "source": [
    "p1 = Permutation([2,0, 3, 1, 6, 5, 8, 7, 4])"
   ]
  },
  {
   "cell_type": "code",
   "execution_count": 9,
   "metadata": {},
   "outputs": [
    {
     "data": {
      "text/plain": [
       " 0 -> 2\n",
       " 1 -> 0\n",
       " 2 -> 3\n",
       " 3 -> 1\n",
       " 4 -> 6\n",
       " 5 -> 5\n",
       " 6 -> 8\n",
       " 7 -> 7\n",
       " 8 -> 4\n",
       " "
      ]
     },
     "execution_count": 9,
     "metadata": {},
     "output_type": "execute_result"
    }
   ],
   "source": [
    "p1"
   ]
  },
  {
   "cell_type": "code",
   "execution_count": 10,
   "metadata": {},
   "outputs": [
    {
     "data": {
      "text/plain": [
       "[ 0 -> 2\n",
       "  1 -> 0\n",
       "  2 -> 3\n",
       "  3 -> 1\n",
       "  4 -> 4\n",
       "  5 -> 5\n",
       "  6 -> 6\n",
       "  7 -> 7\n",
       "  8 -> 8\n",
       "  ,  0 -> 0\n",
       "  1 -> 1\n",
       "  2 -> 2\n",
       "  3 -> 3\n",
       "  4 -> 6\n",
       "  5 -> 5\n",
       "  6 -> 8\n",
       "  7 -> 7\n",
       "  8 -> 4\n",
       "  ]"
      ]
     },
     "execution_count": 10,
     "metadata": {},
     "output_type": "execute_result"
    }
   ],
   "source": [
    "cycle_decom(p1)"
   ]
  },
  {
   "cell_type": "code",
   "execution_count": 11,
   "metadata": {},
   "outputs": [
    {
     "data": {
      "text/plain": [
       "12"
      ]
     },
     "execution_count": 11,
     "metadata": {},
     "output_type": "execute_result"
    }
   ],
   "source": [
    "order(p1)"
   ]
  },
  {
   "cell_type": "code",
   "execution_count": 12,
   "metadata": {},
   "outputs": [],
   "source": [
    "p2 = Permutation([6, 5, 4, 2, 3, 1, 0])\n",
    "p3 = Permutation([1,2, 0, 4, 5, 6, 3])"
   ]
  },
  {
   "cell_type": "code",
   "execution_count": 14,
   "metadata": {},
   "outputs": [
    {
     "data": {
      "text/plain": [
       "2"
      ]
     },
     "execution_count": 14,
     "metadata": {},
     "output_type": "execute_result"
    }
   ],
   "source": [
    "order(product(p2, p3))"
   ]
  },
  {
   "cell_type": "code",
   "execution_count": 15,
   "metadata": {},
   "outputs": [],
   "source": [
    "p4 = Permutation([1,2,3,4,0])"
   ]
  },
  {
   "cell_type": "code",
   "execution_count": 16,
   "metadata": {},
   "outputs": [
    {
     "data": {
      "text/plain": [
       " 0 -> 3\n",
       " 1 -> 4\n",
       " 2 -> 0\n",
       " 3 -> 1\n",
       " 4 -> 2\n",
       " "
      ]
     },
     "execution_count": 16,
     "metadata": {},
     "output_type": "execute_result"
    }
   ],
   "source": [
    "power(p4, 3)"
   ]
  },
  {
   "cell_type": "code",
   "execution_count": null,
   "metadata": {},
   "outputs": [],
   "source": []
  }
 ],
 "metadata": {
  "kernelspec": {
   "display_name": "Python 3",
   "language": "python",
   "name": "python3"
  },
  "language_info": {
   "codemirror_mode": {
    "name": "ipython",
    "version": 3
   },
   "file_extension": ".py",
   "mimetype": "text/x-python",
   "name": "python",
   "nbconvert_exporter": "python",
   "pygments_lexer": "ipython3",
   "version": "3.6.4"
  }
 },
 "nbformat": 4,
 "nbformat_minor": 2
}
